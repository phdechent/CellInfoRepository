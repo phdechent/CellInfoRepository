{
 "cells": [
  {
   "cell_type": "code",
   "execution_count": 1,
   "metadata": {},
   "outputs": [],
   "source": [
    "import os\n",
    "import glob\n",
    "import rdflib\n",
    "import concurrent.futures\n",
    "\n",
    "# Define a function to read and parse a single JSON-LD file into an RDFLib graph\n",
    "def read_and_parse_file(file_path):\n",
    "    with open(file_path, 'r', encoding='utf-8') as file:\n",
    "        file_content = file.read()\n",
    "        graph = rdflib.Graph()\n",
    "        graph.parse(data=file_content, format='json-ld')\n",
    "    return graph\n",
    "\n",
    "# Define a function to load JSON-LD files into an RDFLib graph using concurrent processing\n",
    "def load_jsonld_files_to_graph(folder_path):\n",
    "    # Get all JSON-LD files in the specified folder\n",
    "    jsonld_files = glob.glob(os.path.join(folder_path, \"*.json\"))\n",
    "\n",
    "    # Create an empty RDFLib graph\n",
    "    graph = rdflib.Graph()\n",
    "\n",
    "    # Use concurrent processing to read and parse files in parallel\n",
    "    with concurrent.futures.ThreadPoolExecutor() as executor:\n",
    "        # Map the read_and_parse_file function to each file path\n",
    "        results = executor.map(read_and_parse_file, jsonld_files)\n",
    "\n",
    "    # Combine all graphs into one\n",
    "    for g in results:\n",
    "        graph += g\n",
    "\n",
    "    return graph"
   ]
  },
  {
   "cell_type": "code",
   "execution_count": 2,
   "metadata": {},
   "outputs": [
    {
     "name": "stdout",
     "output_type": "stream",
     "text": [
      "Graph has 37281 triples.\n"
     ]
    }
   ],
   "source": [
    "# Define the folder containing the JSON-LD files\n",
    "folder_path = 'BatteryTypeJson'\n",
    "\n",
    "# Load JSON-LD files into the graph\n",
    "graph = load_jsonld_files_to_graph(folder_path)\n",
    "\n",
    "# Print the number of triples in the graph\n",
    "print(f\"Graph has {len(graph)} triples.\")\n",
    "\n",
    "# Optionally, serialize the graph to a file (e.g., in Turtle format)\n",
    "#output_file = 'output_graph.ttl'\n",
    "#graph.serialize(destination=output_file, format='turtle')\n",
    "#print(f\"Serialized graph to {output_file}\")\n"
   ]
  },
  {
   "cell_type": "code",
   "execution_count": 3,
   "metadata": {},
   "outputs": [
    {
     "name": "stdout",
     "output_type": "stream",
     "text": [
      "NCR18650BF is the subject of 62 publications\n",
      "INR18650 MJ1 is the subject of 44 publications\n",
      "INR21700 M50T is the subject of 18 publications\n",
      "SLPB11543140H5 is the subject of 16 publications\n",
      "AMP20M1HD-A is the subject of 12 publications\n",
      "INR21700 M50 is the subject of 12 publications\n",
      "INR21700-50E is the subject of 11 publications\n",
      "SLPB75106100 is the subject of 11 publications\n",
      "WB-LYP40AHA is the subject of 6 publications\n",
      "SLPB120216216HR2 is the subject of 6 publications\n"
     ]
    }
   ],
   "source": [
    "# Define the SPARQL query\n",
    "query = \"\"\"\n",
    "PREFIX schema: <https://schema.org/>\n",
    "\n",
    "SELECT ?name (COUNT(?subjectOf) AS ?subjectOfCount)\n",
    "WHERE {\n",
    "  ?thing schema:subjectOf ?subjectOf .\n",
    "  ?thing schema:name ?name .\n",
    "}\n",
    "GROUP BY ?name\n",
    "ORDER BY DESC(?subjectOfCount)\n",
    "LIMIT 10\n",
    "\"\"\"\n",
    "\n",
    "# Execute the query\n",
    "qres = graph.query(query)\n",
    "\n",
    "# Print the results\n",
    "for row in qres:\n",
    "    print(f\"{row.name} is the subject of {row.subjectOfCount} publications\")"
   ]
  },
  {
   "cell_type": "code",
   "execution_count": 9,
   "metadata": {},
   "outputs": [],
   "source": [
    "import requests\n",
    "# Define the SPARQL query\n",
    "query = \"\"\"\n",
    "PREFIX schema: <https://schema.org/>\n",
    "SELECT ?value\n",
    "WHERE {{\n",
    "    ?thing schema:name \"20AH\" .\n",
    "    ?thing schema:manufacturer ?manufacturer.\n",
    "    ?manufacturer schema:name \"A123\".\n",
    "    ?thing <{hasProperty}> ?property .\n",
    "    ?property a <{RatedCapacity}> ;\n",
    "              <{hasNumericalPart}> ?numericalPart .\n",
    "    ?numericalPart <{hasNumericalValue}> ?value .\n",
    "}}\n",
    "\"\"\"\n",
    "sparql_query = \"\"\"\n",
    "    SELECT ?value\n",
    "    WHERE {{\n",
    "    ?thing schema:name \"INR21700 M50T\" .\n",
    "    ?thing schema:manufacturer ?manufacturer.\n",
    "    ?manufacturer schema:name \"LG Chem\".\n",
    "    ?thing <{hasProperty}> ?property .\n",
    "    ?property a <{RatedCapacity}> ;\n",
    "                <{hasNumericalPart}> ?numericalPart .\n",
    "    ?numericalPart <{hasNumericalValue}> ?value .\n",
    "    }}\n",
    "\"\"\"\n",
    "    \n",
    "# Execute the query\n",
    "#qres = graph.query(query)\n",
    "\n",
    "# Print the results\n",
    "#for row in qres:\n",
    "#    print(f\"{row}\")\n",
    "\n",
    "context_url = \"https://w3id.org/emmo/domain/battery/context\"\n",
    "context_data = requests.get(context_url).json()"
   ]
  },
  {
   "cell_type": "code",
   "execution_count": 11,
   "metadata": {},
   "outputs": [
    {
     "name": "stdout",
     "output_type": "stream",
     "text": [
      "(rdflib.term.Literal('4.8', datatype=rdflib.term.URIRef('http://www.w3.org/2001/XMLSchema#double')),)\n"
     ]
    }
   ],
   "source": [
    "qres = graph.query(add_Iri_context(sparql_query,context_data))\n",
    "for row in qres:\n",
    "    print(f\"{row}\")"
   ]
  },
  {
   "cell_type": "code",
   "execution_count": 7,
   "metadata": {},
   "outputs": [],
   "source": [
    "def add_Iri_context(query,context_data):\n",
    "\n",
    "    # Extract IRIs from the context file\n",
    "    hasPositiveElectrode = rdflib.URIRef(context_data[\"@context\"][\"hasPositiveElectrode\"][\"@id\"])\n",
    "    PositiveElectrode = rdflib.URIRef(context_data[\"@context\"][\"PositiveElectrode\"])\n",
    "    hasActiveMaterial = rdflib.URIRef(context_data[\"@context\"][\"hasActiveMaterial\"][\"@id\"])\n",
    "    NMC = rdflib.URIRef(context_data[\"@context\"][\"LithiumNickelManganeseCobaltOxide\"])\n",
    "    LFP = rdflib.URIRef(context_data[\"@context\"][\"LithiumIronPhosphate\"])\n",
    "    hasProperty = rdflib.URIRef(context_data[\"@context\"][\"hasProperty\"][\"@id\"])\n",
    "    hasNumericalPart = rdflib.URIRef(context_data[\"@context\"][\"hasNumericalPart\"][\"@id\"])\n",
    "    hasNumericalValue = rdflib.URIRef(context_data[\"@context\"][\"hasNumericalValue\"])\n",
    "    RatedCapacity = rdflib.URIRef(context_data[\"@context\"][\"RatedCapacity\"])\n",
    "    CycleLife = rdflib.URIRef(context_data[\"@context\"][\"CycleLife\"])\n",
    "    NominalVoltage = rdflib.URIRef(context_data[\"@context\"][\"NominalVoltage\"])\n",
    "    UpperVoltageLimit = rdflib.URIRef(context_data[\"@context\"][\"UpperVoltageLimit\"])\n",
    "    LowerVoltageLimit = rdflib.URIRef(context_data[\"@context\"][\"LowerVoltageLimit\"])\n",
    "    DischargingCurrent = rdflib.URIRef(context_data[\"@context\"][\"DischargingCurrent\"])\n",
    "    MaximumContinuousDischargingCurrent = rdflib.URIRef(context_data[\"@context\"][\"MaximumContinuousDischargingCurrent\"])\n",
    "    MaximumContinuousChargingCurrent = rdflib.URIRef(context_data[\"@context\"][\"MaximumContinuousChargingCurrent\"])\n",
    "    Mass = rdflib.URIRef(context_data[\"@context\"][\"Mass\"])\n",
    "    ChargingCurrent = rdflib.URIRef(context_data[\"@context\"][\"ChargingCurrent\"])\n",
    "    Height = rdflib.URIRef(context_data[\"@context\"][\"Height\"])\n",
    "    Diameter = rdflib.URIRef(context_data[\"@context\"][\"Diameter\"])\n",
    "\n",
    "    return query.format(\n",
    "    hasPositiveElectrode=str(hasPositiveElectrode),\n",
    "    PositiveElectrode=str(PositiveElectrode),\n",
    "    hasActiveMaterial=str(hasActiveMaterial),\n",
    "    NMC=str(NMC),\n",
    "    LFP=str(LFP),\n",
    "    hasProperty=str(hasProperty),\n",
    "    hasNumericalPart=str(hasNumericalPart),\n",
    "    hasNumericalValue=str(hasNumericalValue),\n",
    "    RatedCapacity=str(RatedCapacity),\n",
    "    CycleLife=str(CycleLife),\n",
    "    NominalVoltage=str(NominalVoltage),\n",
    "    UpperVoltageLimit=str(UpperVoltageLimit),\n",
    "    LowerVoltageLimit=str(LowerVoltageLimit),\n",
    "    DischargingCurrent=str(DischargingCurrent),\n",
    "    MaximumContinuousDischargingCurrent=str(MaximumContinuousDischargingCurrent),\n",
    "    MaximumContinuousChargingCurrent=str(MaximumContinuousChargingCurrent),\n",
    "    Mass=str(Mass),\n",
    "    ChargingCurrent=str(ChargingCurrent),\n",
    "    Height=str(Height),\n",
    "    Diameter=str(Diameter))"
   ]
  },
  {
   "cell_type": "code",
   "execution_count": 5,
   "metadata": {},
   "outputs": [
    {
     "name": "stdout",
     "output_type": "stream",
     "text": [
      "Count of cells with NMC active materials: 76\n"
     ]
    }
   ],
   "source": [
    "import requests\n",
    "\n",
    "# Load the context file from the URL\n",
    "context_url = \"https://w3id.org/emmo/domain/battery/context\"\n",
    "context_data = requests.get(context_url).json()\n",
    "\n",
    "# Extract IRIs from the context file\n",
    "hasPositiveElectrode = rdflib.URIRef(context_data[\"@context\"][\"hasPositiveElectrode\"][\"@id\"])\n",
    "PositiveElectrode = rdflib.URIRef(context_data[\"@context\"][\"PositiveElectrode\"])\n",
    "hasActiveMaterial = rdflib.URIRef(context_data[\"@context\"][\"hasActiveMaterial\"][\"@id\"])\n",
    "NMC = rdflib.URIRef(context_data[\"@context\"][\"LithiumNickelManganeseCobaltOxide\"])\n",
    "LFP = rdflib.URIRef(context_data[\"@context\"][\"LithiumIronPhosphate\"])\n",
    "hasProperty = rdflib.URIRef(context_data[\"@context\"][\"hasProperty\"][\"@id\"])\n",
    "hasNumericalPart = rdflib.URIRef(context_data[\"@context\"][\"hasNumericalPart\"][\"@id\"])\n",
    "hasNumericalValue = rdflib.URIRef(context_data[\"@context\"][\"hasNumericalValue\"])\n",
    "RatedCapacity = rdflib.URIRef(context_data[\"@context\"][\"RatedCapacity\"])\n",
    "CycleLife = rdflib.URIRef(context_data[\"@context\"][\"CycleLife\"])\n",
    "NominalVoltage = rdflib.URIRef(context_data[\"@context\"][\"NominalVoltage\"])\n",
    "UpperVoltageLimit = rdflib.URIRef(context_data[\"@context\"][\"UpperVoltageLimit\"])\n",
    "LowerVoltageLimit = rdflib.URIRef(context_data[\"@context\"][\"LowerVoltageLimit\"])\n",
    "DischargingCurrent = rdflib.URIRef(context_data[\"@context\"][\"DischargingCurrent\"])\n",
    "MaximumContinuousDischargingCurrent = rdflib.URIRef(context_data[\"@context\"][\"MaximumContinuousDischargingCurrent\"])\n",
    "Mass = rdflib.URIRef(context_data[\"@context\"][\"Mass\"])\n",
    "ChargingCurrent = rdflib.URIRef(context_data[\"@context\"][\"ChargingCurrent\"])\n",
    "Height = rdflib.URIRef(context_data[\"@context\"][\"Height\"])\n",
    "Diameter = rdflib.URIRef(context_data[\"@context\"][\"Diameter\"])\n",
    "\n",
    "# Define the SPARQL query using the extracted IRIs\n",
    "query = f\"\"\"\n",
    "SELECT (COUNT(?thing) AS ?countInstance)\n",
    "WHERE {{\n",
    "  ?thing <{hasPositiveElectrode}> ?positiveElectrode .\n",
    "  ?positiveElectrode a <{PositiveElectrode}> ;\n",
    "                     <{hasActiveMaterial}> ?activeMaterial .\n",
    "  ?activeMaterial a <{NMC}> .\n",
    "}}\n",
    "\"\"\"\n",
    "\n",
    "# Execute the query\n",
    "qres = graph.query(query)\n",
    "\n",
    "# Print the results\n",
    "for row in qres:\n",
    "    print(f\"Count of cells with NMC active materials: {row.countInstance}\")"
   ]
  },
  {
   "cell_type": "code",
   "execution_count": 6,
   "metadata": {},
   "outputs": [
    {
     "name": "stdout",
     "output_type": "stream",
     "text": [
      "3.35\n"
     ]
    }
   ],
   "source": [
    "name_search=\"NCR18650BF\"\n",
    "query = f\"\"\"\n",
    "PREFIX schema: <https://schema.org/>\n",
    "SELECT ?value\n",
    "WHERE {{\n",
    "  ?thing schema:name \"{name_search}\" .\n",
    "  ?thing <{hasProperty}> ?property .\n",
    "  ?property a <{RatedCapacity}> ;\n",
    "            <{hasNumericalPart}> ?numericalPart .\n",
    "  ?numericalPart <{hasNumericalValue}> ?value .\n",
    "}}\n",
    "\"\"\"\n",
    "\n",
    "# Execute the query\n",
    "qres = graph.query(query)\n",
    "\n",
    "# Print the results\n",
    "for row in qres:\n",
    "    print(row.value)"
   ]
  },
  {
   "cell_type": "code",
   "execution_count": 7,
   "metadata": {},
   "outputs": [
    {
     "name": "stdout",
     "output_type": "stream",
     "text": [
      "3.6\n"
     ]
    }
   ],
   "source": [
    "name_search=\"NCR18650BF\"\n",
    "query3 = f\"\"\"\n",
    "PREFIX schema: <https://schema.org/>\n",
    "SELECT ?value\n",
    "WHERE {{\n",
    "  ?thing schema:name \"{name_search}\" .\n",
    "  ?thing <{hasProperty}> ?property .\n",
    "  ?property a <{NominalVoltage}> ;\n",
    "            <{hasNumericalPart}> ?numericalPart .\n",
    "  ?numericalPart <{hasNumericalValue}> ?value .\n",
    "}}\n",
    "\"\"\"\n",
    "\n",
    "# Execute the query\n",
    "qres = graph.query(query3)\n",
    "\n",
    "# Print the results\n",
    "for row in qres:\n",
    "    print(row.value)"
   ]
  },
  {
   "cell_type": "code",
   "execution_count": 13,
   "metadata": {},
   "outputs": [
    {
     "name": "stdout",
     "output_type": "stream",
     "text": [
      "30.0\n"
     ]
    }
   ],
   "source": [
    "# name_search = \"NCR18650BF\"\n",
    "#name_search = \"INR21700 M50T\"\n",
    "#query = f\"\"\"\n",
    "# PREFIX schema: <https://schema.org/>\n",
    "# SELECT ?value\n",
    "# WHERE {{\n",
    "#     ?thing schema:name \"CA100\" .\n",
    "#     ?thing schema:manufacturer ?manufacturer.\n",
    "#     ?manufacturer schema:name \"CALB\".\n",
    "#     ?thing <{hasProperty}> ?property .\n",
    "#     ?property a <{ChargingCurrent}> ;\n",
    "#               <{hasNumericalPart}> ?numericalPart .\n",
    "#     ?numericalPart <{hasNumericalValue}> ?value .\n",
    "# }}\n",
    "\n",
    "# \"\"\"\n",
    "\n",
    "query = f\"\"\"\n",
    "PREFIX schema: <https://schema.org/>\n",
    "SELECT ?value\n",
    "WHERE {{\n",
    "    ?thing schema:name \"CA100\" .\n",
    "    ?thing schema:manufacturer ?manufacturer.\n",
    "    ?manufacturer schema:name \"CALB\".\n",
    "    ?thing <{hasProperty}> ?property .\n",
    "    ?property a <{ChargingCurrent}> ;\n",
    "              <{hasNumericalPart}> ?numericalPart .\n",
    "    ?numericalPart <{hasNumericalValue}> ?value .\n",
    "}}\n",
    "\"\"\"\n",
    "# Execute the query\n",
    "qres = graph.query(query)\n",
    "\n",
    "# Print the results\n",
    "for row in qres:\n",
    "    print(row.value)\n",
    "    #print(name_search + ' is thing ' + row.thing)"
   ]
  }
 ],
 "metadata": {
  "kernelspec": {
   "display_name": "fair_data_env",
   "language": "python",
   "name": "python3"
  },
  "language_info": {
   "codemirror_mode": {
    "name": "ipython",
    "version": 3
   },
   "file_extension": ".py",
   "mimetype": "text/x-python",
   "name": "python",
   "nbconvert_exporter": "python",
   "pygments_lexer": "ipython3",
   "version": "3.11.6"
  }
 },
 "nbformat": 4,
 "nbformat_minor": 2
}
